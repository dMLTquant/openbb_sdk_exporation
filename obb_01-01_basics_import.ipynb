{
 "cells": [
  {
   "cell_type": "markdown",
   "metadata": {},
   "source": [
    "# 01.01 Basics: Import"
   ]
  },
  {
   "cell_type": "code",
   "execution_count": 1,
   "metadata": {},
   "outputs": [],
   "source": [
    "from openbb_terminal.sdk import openbb"
   ]
  },
  {
   "cell_type": "code",
   "execution_count": 2,
   "metadata": {},
   "outputs": [
    {
     "name": "stdout",
     "output_type": "stream",
     "text": [
      "Help on Breadcrumb in module openbb_terminal.core.library.breadcrumb:\n",
      "\n",
      "<openbb_terminal.core.library.breadcrumb.Breadcrumb object>\n",
      "    DD Menu\n",
      "    \n",
      "    The SDK commands of the the menu:\n",
      "            <openbb>.stocks.dd.pt\n",
      "            <openbb>.stocks.dd.pt_chart\n",
      "            <openbb>.stocks.dd.supplier\n",
      "            <openbb>.stocks.dd.news\n",
      "            <openbb>.stocks.dd.customer\n",
      "            <openbb>.stocks.dd.rot\n",
      "            <openbb>.stocks.dd.rot_chart\n",
      "            <openbb>.stocks.dd.sec\n",
      "            <openbb>.stocks.dd.rating\n",
      "            <openbb>.stocks.dd.analyst\n",
      "            <openbb>.stocks.dd.arktrades\n",
      "            <openbb>.stocks.dd.est\n",
      "\n"
     ]
    }
   ],
   "source": [
    "help(openbb.stocks.dd)"
   ]
  }
 ],
 "metadata": {
  "kernelspec": {
   "display_name": "obb",
   "language": "python",
   "name": "python3"
  },
  "language_info": {
   "codemirror_mode": {
    "name": "ipython",
    "version": 3
   },
   "file_extension": ".py",
   "mimetype": "text/x-python",
   "name": "python",
   "nbconvert_exporter": "python",
   "pygments_lexer": "ipython3",
   "version": "3.9.6 (default, Aug 18 2021, 19:38:01) \n[GCC 7.5.0]"
  },
  "orig_nbformat": 4,
  "vscode": {
   "interpreter": {
    "hash": "70fb286899aef0263c538f4bbe10f44583bdc47b38cbab99a2e5c81fa25f65f8"
   }
  }
 },
 "nbformat": 4,
 "nbformat_minor": 2
}
