{
 "cells": [
  {
   "cell_type": "markdown",
   "metadata": {},
   "source": [
    "# 02.09 Modules: Portfolio\n",
    "\n",
    "> https://docs.openbb.co/sdk/guides/intros/portfolio"
   ]
  },
  {
   "cell_type": "code",
   "execution_count": 1,
   "metadata": {},
   "outputs": [],
   "source": [
    "from openbb_terminal.sdk import openbb\n",
    "import pandas as pd\n",
    "# %matplotlib inline (uncomment if using a Jupyter Notebook or an Interactive Window)"
   ]
  },
  {
   "cell_type": "code",
   "execution_count": 2,
   "metadata": {},
   "outputs": [
    {
     "name": "stdout",
     "output_type": "stream",
     "text": [
      "Help on Breadcrumb in module openbb_terminal.core.library.breadcrumb:\n",
      "\n",
      "<openbb_terminal.core.library.breadcrumb.Breadcrumb object>\n",
      "    PORTFOLIO Menu\n",
      "    \n",
      "    The SDK commands of the the menu:\n",
      "            <openbb>.portfolio.bench\n",
      "            <openbb>.portfolio.summary\n",
      "            <openbb>.portfolio.rbeta\n",
      "            <openbb>.portfolio.rbeta_chart\n",
      "            <openbb>.portfolio.rvol\n",
      "            <openbb>.portfolio.rvol_chart\n",
      "            <openbb>.portfolio.holdv\n",
      "            <openbb>.portfolio.holdv_chart\n",
      "            <openbb>.portfolio.om\n",
      "            <openbb>.portfolio.om_chart\n",
      "            <openbb>.portfolio.holdp\n",
      "            <openbb>.portfolio.holdp_chart\n",
      "            <openbb>.portfolio.maxdd\n",
      "            <openbb>.portfolio.maxdd_chart\n",
      "            <openbb>.portfolio.var\n",
      "            <openbb>.portfolio.rsort\n",
      "            <openbb>.portfolio.rsort_chart\n",
      "            <openbb>.portfolio.mret\n",
      "            <openbb>.portfolio.mret_chart\n",
      "            <openbb>.portfolio.show\n",
      "            <openbb>.portfolio.dret\n",
      "            <openbb>.portfolio.dret_chart\n",
      "            <openbb>.portfolio.distr\n",
      "            <openbb>.portfolio.distr_chart\n",
      "            <openbb>.portfolio.alloc\n",
      "            <openbb>.portfolio.rsharpe\n",
      "            <openbb>.portfolio.rsharpe_chart\n",
      "            <openbb>.portfolio.load\n",
      "            <openbb>.portfolio.po\n",
      "            <openbb>.portfolio.metric\n",
      "            <openbb>.portfolio.yret\n",
      "            <openbb>.portfolio.yret_chart\n",
      "            <openbb>.portfolio.perf\n",
      "            <openbb>.portfolio.es\n",
      "\n"
     ]
    }
   ],
   "source": [
    "help(openbb.portfolio)"
   ]
  },
  {
   "attachments": {},
   "cell_type": "markdown",
   "metadata": {},
   "source": [
    "## Set up portfolio"
   ]
  },
  {
   "attachments": {},
   "cell_type": "markdown",
   "metadata": {},
   "source": [
    "### Portfolio Files\n",
    "\n",
    "Examples can be found here: [GitHub > OpenBBTerminal > portfolio_examples](https://github.com/OpenBB-finance/OpenBBTerminal/tree/main/openbb_terminal/miscellaneous/portfolio_examples/holdings)"
   ]
  },
  {
   "cell_type": "code",
   "execution_count": 3,
   "metadata": {},
   "outputs": [
    {
     "name": "stdout",
     "output_type": "stream",
     "text": [
      "--2023-01-18 03:43:28--  https://raw.githubusercontent.com/OpenBB-finance/OpenBBTerminal/main/openbb_terminal/miscellaneous/portfolio_examples/holdings/example.csv\n",
      "Resolving raw.githubusercontent.com (raw.githubusercontent.com)... 185.199.109.133, 185.199.111.133, 185.199.108.133, ...\n",
      "Connecting to raw.githubusercontent.com (raw.githubusercontent.com)|185.199.109.133|:443... connected.\n",
      "HTTP request sent, awaiting response... 200 OK\n",
      "Length: 459 [text/plain]\n",
      "Saving to: ‘/home/gitpod/OpenBBUserData/portfolio/holdings/example.csv’\n",
      "\n",
      "example.csv         100%[===================>]     459  --.-KB/s    in 0s      \n",
      "\n",
      "2023-01-18 03:43:28 (35.8 MB/s) - ‘/home/gitpod/OpenBBUserData/portfolio/holdings/example.csv’ saved [459/459]\n",
      "\n"
     ]
    }
   ],
   "source": [
    "!wget --directory-prefix=/home/gitpod/OpenBBUserData/portfolio/holdings/ https://raw.githubusercontent.com/OpenBB-finance/OpenBBTerminal/main/openbb_terminal/miscellaneous/portfolio_examples/holdings/example.csv\n"
   ]
  },
  {
   "cell_type": "code",
   "execution_count": 4,
   "metadata": {},
   "outputs": [
    {
     "name": "stdout",
     "output_type": "stream",
     "text": [
      ".  ..  example.csv\n"
     ]
    }
   ],
   "source": [
    "!ls -a /home/gitpod/OpenBBUserData/portfolio/holdings"
   ]
  },
  {
   "attachments": {},
   "cell_type": "markdown",
   "metadata": {},
   "source": [
    "### Load"
   ]
  },
  {
   "cell_type": "code",
   "execution_count": 5,
   "metadata": {},
   "outputs": [
    {
     "name": "stdout",
     "output_type": "stream",
     "text": [
      "Help on Operation in module openbb_terminal.core.library.operation:\n",
      "\n",
      "<openbb_terminal.core.library.operation.Operation object>\n",
      "    Get PortfolioEngine object\n",
      "    \n",
      "    Parameters\n",
      "    ----------\n",
      "    transactions_file_path : str\n",
      "        Path to transactions file\n",
      "    benchmark_symbol : str\n",
      "        Benchmark ticker to download data\n",
      "    full_shares : bool\n",
      "        Whether to mimic the portfolio trades exactly (partial shares) or round down the\n",
      "        quantity to the nearest number\n",
      "    risk_free_rate : float\n",
      "        Risk free rate in float format\n",
      "    \n",
      "    Returns\n",
      "    -------\n",
      "    PortfolioEngine\n",
      "        PortfolioEngine class instance, this will hold transactions and perform calculations\n",
      "    \n",
      "    Examples\n",
      "    --------\n",
      "    >>> from openbb_terminal.sdk import openbb\n",
      "    >>> p = openbb.portfolio.load(\"openbb_terminal/miscellaneous/portfolio_examples/holdings/example.csv\")\n",
      "\n"
     ]
    }
   ],
   "source": [
    "help(openbb.portfolio.load)"
   ]
  },
  {
   "cell_type": "code",
   "execution_count": 7,
   "metadata": {},
   "outputs": [
    {
     "name": "stderr",
     "output_type": "stream",
     "text": [
      "Preprocessing transactions:  93%|█████████▎| 13/14 [00:00<00:00, 16.65it/s] "
     ]
    },
    {
     "data": {
      "text/html": [
       "<pre style=\"white-space:pre;overflow-x:auto;line-height:normal;font-family:Menlo,'DejaVu Sans Mono',consolas,'Courier New',monospace\">F:AAPL</pre>\n"
      ],
      "text/plain": [
       "F:AAPL"
      ]
     },
     "metadata": {},
     "output_type": "display_data"
    },
    {
     "data": {
      "text/html": [
       "<pre style=\"white-space:pre;overflow-x:auto;line-height:normal;font-family:Menlo,'DejaVu Sans Mono',consolas,'Courier New',monospace\">F:MSFT</pre>\n"
      ],
      "text/plain": [
       "F:MSFT"
      ]
     },
     "metadata": {},
     "output_type": "display_data"
    },
    {
     "name": "stderr",
     "output_type": "stream",
     "text": [
      "Preprocessing transactions: 100%|██████████| 14/14 [00:02<00:00,  5.83it/s]\n",
      "        Loading price data: 100%|██████████| 2/2 [00:01<00:00,  1.82it/s]\n",
      "       Calculating returns: 100%|██████████| 1/1 [00:00<00:00, 43.38it/s]\n",
      "         Loading benchmark: 100%|██████████| 4/4 [00:01<00:00,  3.51it/s]\n"
     ]
    }
   ],
   "source": [
    "P = openbb.portfolio.load(\n",
    "  transactions_file_path = '/home/gitpod/OpenBBUserData/portfolio/holdings/example.csv',\n",
    "  benchmark_symbol = 'VTI',\n",
    "  full_shares = False,\n",
    "  risk_free_rate = 3.0\n",
    ")"
   ]
  },
  {
   "attachments": {},
   "cell_type": "markdown",
   "metadata": {},
   "source": [
    "### The Portfolio Object"
   ]
  },
  {
   "cell_type": "code",
   "execution_count": 9,
   "metadata": {},
   "outputs": [
    {
     "name": "stderr",
     "output_type": "stream",
     "text": [
      "         Loading benchmark: 100%|██████████| 4/4 [00:01<00:00,  2.12it/s]\n"
     ]
    }
   ],
   "source": [
    "P.set_benchmark(symbol = 'SPY')"
   ]
  },
  {
   "cell_type": "code",
   "execution_count": 10,
   "metadata": {},
   "outputs": [
    {
     "data": {
      "text/plain": [
       "'SPY'"
      ]
     },
     "execution_count": 10,
     "metadata": {},
     "output_type": "execute_result"
    }
   ],
   "source": [
    "P.benchmark_ticker"
   ]
  },
  {
   "cell_type": "code",
   "execution_count": 12,
   "metadata": {},
   "outputs": [
    {
     "data": {
      "text/plain": [
       "['BTC-USD', 'AAPL', 'MSFT']"
      ]
     },
     "execution_count": 12,
     "metadata": {},
     "output_type": "execute_result"
    }
   ],
   "source": [
    "# Populating a list of tickers from the Portfolio Object is accomplished by assigning a variable to it\n",
    "tickers = P.tickers_list\n",
    "tickers"
   ]
  },
  {
   "attachments": {},
   "cell_type": "markdown",
   "metadata": {},
   "source": [
    "## Portfolio analysis"
   ]
  },
  {
   "attachments": {},
   "cell_type": "markdown",
   "metadata": {},
   "source": [
    "### Show\n",
    "\n",
    "Display portfolio transcations"
   ]
  },
  {
   "cell_type": "code",
   "execution_count": 13,
   "metadata": {},
   "outputs": [
    {
     "data": {
      "text/html": [
       "<div>\n",
       "<style scoped>\n",
       "    .dataframe tbody tr th:only-of-type {\n",
       "        vertical-align: middle;\n",
       "    }\n",
       "\n",
       "    .dataframe tbody tr th {\n",
       "        vertical-align: top;\n",
       "    }\n",
       "\n",
       "    .dataframe thead th {\n",
       "        text-align: right;\n",
       "    }\n",
       "</style>\n",
       "<table border=\"1\" class=\"dataframe\">\n",
       "  <thead>\n",
       "    <tr style=\"text-align: right;\">\n",
       "      <th></th>\n",
       "      <th>Date</th>\n",
       "      <th>Type</th>\n",
       "      <th>Ticker</th>\n",
       "      <th>Side</th>\n",
       "      <th>Price</th>\n",
       "      <th>Quantity</th>\n",
       "      <th>Fees</th>\n",
       "      <th>Investment</th>\n",
       "      <th>Currency</th>\n",
       "      <th>Sector</th>\n",
       "      <th>Industry</th>\n",
       "      <th>Country</th>\n",
       "      <th>Region</th>\n",
       "    </tr>\n",
       "  </thead>\n",
       "  <tbody>\n",
       "    <tr>\n",
       "      <th>3</th>\n",
       "      <td>2021-07-02</td>\n",
       "      <td>STOCK</td>\n",
       "      <td>AAPL</td>\n",
       "      <td>Buy</td>\n",
       "      <td>139.8</td>\n",
       "      <td>300</td>\n",
       "      <td>0</td>\n",
       "      <td>41940.0</td>\n",
       "      <td>USD</td>\n",
       "      <td></td>\n",
       "      <td></td>\n",
       "      <td></td>\n",
       "      <td></td>\n",
       "    </tr>\n",
       "    <tr>\n",
       "      <th>2</th>\n",
       "      <td>2021-05-21</td>\n",
       "      <td>CRYPTO</td>\n",
       "      <td>BTC-USD</td>\n",
       "      <td>Buy</td>\n",
       "      <td>37430.0</td>\n",
       "      <td>1</td>\n",
       "      <td>0</td>\n",
       "      <td>37430.0</td>\n",
       "      <td>USD</td>\n",
       "      <td>Crypto</td>\n",
       "      <td>Crypto</td>\n",
       "      <td>Crypto</td>\n",
       "      <td>Crypto</td>\n",
       "    </tr>\n",
       "    <tr>\n",
       "      <th>1</th>\n",
       "      <td>2021-03-26</td>\n",
       "      <td>STOCK</td>\n",
       "      <td>MSFT</td>\n",
       "      <td>Buy</td>\n",
       "      <td>232.8</td>\n",
       "      <td>200</td>\n",
       "      <td>0</td>\n",
       "      <td>46560.0</td>\n",
       "      <td>USD</td>\n",
       "      <td></td>\n",
       "      <td></td>\n",
       "      <td></td>\n",
       "      <td></td>\n",
       "    </tr>\n",
       "    <tr>\n",
       "      <th>0</th>\n",
       "      <td>2021-03-24</td>\n",
       "      <td>STOCK</td>\n",
       "      <td>AAPL</td>\n",
       "      <td>Buy</td>\n",
       "      <td>120.7</td>\n",
       "      <td>300</td>\n",
       "      <td>0</td>\n",
       "      <td>36210.0</td>\n",
       "      <td>USD</td>\n",
       "      <td></td>\n",
       "      <td></td>\n",
       "      <td></td>\n",
       "      <td></td>\n",
       "    </tr>\n",
       "  </tbody>\n",
       "</table>\n",
       "</div>"
      ],
      "text/plain": [
       "         Date    Type   Ticker Side    Price  Quantity  Fees  Investment  \\\n",
       "3  2021-07-02   STOCK     AAPL  Buy    139.8       300     0     41940.0   \n",
       "2  2021-05-21  CRYPTO  BTC-USD  Buy  37430.0         1     0     37430.0   \n",
       "1  2021-03-26   STOCK     MSFT  Buy    232.8       200     0     46560.0   \n",
       "0  2021-03-24   STOCK     AAPL  Buy    120.7       300     0     36210.0   \n",
       "\n",
       "  Currency  Sector Industry Country  Region  \n",
       "3      USD                                   \n",
       "2      USD  Crypto   Crypto  Crypto  Crypto  \n",
       "1      USD                                   \n",
       "0      USD                                   "
      ]
     },
     "execution_count": 13,
     "metadata": {},
     "output_type": "execute_result"
    }
   ],
   "source": [
    "openbb.portfolio.show(P)"
   ]
  },
  {
   "attachments": {},
   "cell_type": "markdown",
   "metadata": {},
   "source": [
    "### Performance\n",
    "\n",
    "Analyse performance against the benchmark"
   ]
  },
  {
   "cell_type": "code",
   "execution_count": 14,
   "metadata": {},
   "outputs": [
    {
     "data": {
      "text/html": [
       "<div>\n",
       "<style scoped>\n",
       "    .dataframe tbody tr th:only-of-type {\n",
       "        vertical-align: middle;\n",
       "    }\n",
       "\n",
       "    .dataframe tbody tr th {\n",
       "        vertical-align: top;\n",
       "    }\n",
       "\n",
       "    .dataframe thead th {\n",
       "        text-align: right;\n",
       "    }\n",
       "</style>\n",
       "<table border=\"1\" class=\"dataframe\">\n",
       "  <thead>\n",
       "    <tr style=\"text-align: right;\">\n",
       "      <th></th>\n",
       "      <th>Portfolio</th>\n",
       "      <th>Benchmark</th>\n",
       "      <th>Difference</th>\n",
       "    </tr>\n",
       "  </thead>\n",
       "  <tbody>\n",
       "    <tr>\n",
       "      <th>Total Investment</th>\n",
       "      <td>162140.0</td>\n",
       "      <td>162140.0</td>\n",
       "      <td>-</td>\n",
       "    </tr>\n",
       "    <tr>\n",
       "      <th>Total Value</th>\n",
       "      <td>150937.985107</td>\n",
       "      <td>162334.232576</td>\n",
       "      <td>-11396.247469</td>\n",
       "    </tr>\n",
       "    <tr>\n",
       "      <th>Total % Return</th>\n",
       "      <td>-6.91%</td>\n",
       "      <td>0.12%</td>\n",
       "      <td>-7.03%</td>\n",
       "    </tr>\n",
       "    <tr>\n",
       "      <th>Total Abs Return</th>\n",
       "      <td>-11202.014893</td>\n",
       "      <td>194.232576</td>\n",
       "      <td>-11396.247469</td>\n",
       "    </tr>\n",
       "  </tbody>\n",
       "</table>\n",
       "</div>"
      ],
      "text/plain": [
       "                      Portfolio      Benchmark    Difference\n",
       "Total Investment       162140.0       162140.0             -\n",
       "Total Value       150937.985107  162334.232576 -11396.247469\n",
       "Total % Return           -6.91%          0.12%        -7.03%\n",
       "Total Abs Return  -11202.014893     194.232576 -11396.247469"
      ]
     },
     "execution_count": 14,
     "metadata": {},
     "output_type": "execute_result"
    }
   ],
   "source": [
    "openbb.portfolio.perf(P)"
   ]
  },
  {
   "attachments": {},
   "cell_type": "markdown",
   "metadata": {},
   "source": [
    "### Summary\n",
    "\n",
    "Analyse risk metrics, comparing the portfolio against the benchmark"
   ]
  },
  {
   "cell_type": "code",
   "execution_count": 15,
   "metadata": {},
   "outputs": [
    {
     "data": {
      "text/html": [
       "<div>\n",
       "<style scoped>\n",
       "    .dataframe tbody tr th:only-of-type {\n",
       "        vertical-align: middle;\n",
       "    }\n",
       "\n",
       "    .dataframe tbody tr th {\n",
       "        vertical-align: top;\n",
       "    }\n",
       "\n",
       "    .dataframe thead th {\n",
       "        text-align: right;\n",
       "    }\n",
       "</style>\n",
       "<table border=\"1\" class=\"dataframe\">\n",
       "  <thead>\n",
       "    <tr style=\"text-align: right;\">\n",
       "      <th></th>\n",
       "      <th>Portfolio</th>\n",
       "      <th>Benchmark</th>\n",
       "      <th>Difference</th>\n",
       "    </tr>\n",
       "  </thead>\n",
       "  <tbody>\n",
       "    <tr>\n",
       "      <th>Volatility</th>\n",
       "      <td>1.60%</td>\n",
       "      <td>1.03%</td>\n",
       "      <td>0.57%</td>\n",
       "    </tr>\n",
       "    <tr>\n",
       "      <th>Skew</th>\n",
       "      <td>-0.047042</td>\n",
       "      <td>-0.110327</td>\n",
       "      <td>0.063285</td>\n",
       "    </tr>\n",
       "    <tr>\n",
       "      <th>Kurtosis</th>\n",
       "      <td>2.7183</td>\n",
       "      <td>3.329762</td>\n",
       "      <td>-0.611462</td>\n",
       "    </tr>\n",
       "    <tr>\n",
       "      <th>Maximum Drawdown</th>\n",
       "      <td>-39.70%</td>\n",
       "      <td>-24.50%</td>\n",
       "      <td>-15.21%</td>\n",
       "    </tr>\n",
       "    <tr>\n",
       "      <th>Sharpe ratio</th>\n",
       "      <td>0.003472</td>\n",
       "      <td>0.012006</td>\n",
       "      <td>-0.008534</td>\n",
       "    </tr>\n",
       "    <tr>\n",
       "      <th>Sortino ratio</th>\n",
       "      <td>0.004656</td>\n",
       "      <td>0.014476</td>\n",
       "      <td>-0.00982</td>\n",
       "    </tr>\n",
       "    <tr>\n",
       "      <th>R2 Score</th>\n",
       "      <td>66.61%</td>\n",
       "      <td>66.61%</td>\n",
       "      <td>0.00%</td>\n",
       "    </tr>\n",
       "  </tbody>\n",
       "</table>\n",
       "</div>"
      ],
      "text/plain": [
       "                 Portfolio Benchmark Difference\n",
       "Volatility           1.60%     1.03%      0.57%\n",
       "Skew             -0.047042 -0.110327   0.063285\n",
       "Kurtosis            2.7183  3.329762  -0.611462\n",
       "Maximum Drawdown   -39.70%   -24.50%    -15.21%\n",
       "Sharpe ratio      0.003472  0.012006  -0.008534\n",
       "Sortino ratio     0.004656  0.014476   -0.00982\n",
       "R2 Score            66.61%    66.61%      0.00%"
      ]
     },
     "execution_count": 15,
     "metadata": {},
     "output_type": "execute_result"
    }
   ],
   "source": [
    "openbb.portfolio.summary(P)"
   ]
  },
  {
   "attachments": {},
   "cell_type": "markdown",
   "metadata": {},
   "source": [
    "### Maximum drawdown: MaxDD"
   ]
  },
  {
   "cell_type": "code",
   "execution_count": 27,
   "metadata": {},
   "outputs": [],
   "source": [
    "# initiate dataframes\n",
    "holdings,dd = openbb.portfolio.maxdd(P)\n",
    "\n",
    "# Drawdown as Pandas dataframe\n",
    "dd = pd.DataFrame(dd)\n",
    "dd.rename(columns = {'Total': 'Portfolio % Drawdown'}, inplace = True)\n",
    "\n",
    "# Portfolio as Pandas dataframe\n",
    "holdings = pd.DataFrame(holdings)\n",
    "holdings.rename(columns = {'Total': 'Portfolio Value'}, inplace = True)"
   ]
  },
  {
   "cell_type": "code",
   "execution_count": 28,
   "metadata": {},
   "outputs": [
    {
     "data": {
      "text/html": [
       "<div>\n",
       "<style scoped>\n",
       "    .dataframe tbody tr th:only-of-type {\n",
       "        vertical-align: middle;\n",
       "    }\n",
       "\n",
       "    .dataframe tbody tr th {\n",
       "        vertical-align: top;\n",
       "    }\n",
       "\n",
       "    .dataframe thead th {\n",
       "        text-align: right;\n",
       "    }\n",
       "</style>\n",
       "<table border=\"1\" class=\"dataframe\">\n",
       "  <thead>\n",
       "    <tr style=\"text-align: right;\">\n",
       "      <th></th>\n",
       "      <th>Portfolio % Drawdown</th>\n",
       "    </tr>\n",
       "    <tr>\n",
       "      <th>Date</th>\n",
       "      <th></th>\n",
       "    </tr>\n",
       "  </thead>\n",
       "  <tbody>\n",
       "    <tr>\n",
       "      <th>2021-03-24</th>\n",
       "      <td>0.000000</td>\n",
       "    </tr>\n",
       "    <tr>\n",
       "      <th>2021-03-25</th>\n",
       "      <td>0.000000</td>\n",
       "    </tr>\n",
       "    <tr>\n",
       "      <th>2021-03-26</th>\n",
       "      <td>0.000000</td>\n",
       "    </tr>\n",
       "    <tr>\n",
       "      <th>2021-03-27</th>\n",
       "      <td>0.000000</td>\n",
       "    </tr>\n",
       "    <tr>\n",
       "      <th>2021-03-28</th>\n",
       "      <td>0.000000</td>\n",
       "    </tr>\n",
       "    <tr>\n",
       "      <th>...</th>\n",
       "      <td>...</td>\n",
       "    </tr>\n",
       "    <tr>\n",
       "      <th>2023-01-14</th>\n",
       "      <td>-0.337907</td>\n",
       "    </tr>\n",
       "    <tr>\n",
       "      <th>2023-01-15</th>\n",
       "      <td>-0.338329</td>\n",
       "    </tr>\n",
       "    <tr>\n",
       "      <th>2023-01-16</th>\n",
       "      <td>-0.337052</td>\n",
       "    </tr>\n",
       "    <tr>\n",
       "      <th>2023-01-17</th>\n",
       "      <td>-0.332965</td>\n",
       "    </tr>\n",
       "    <tr>\n",
       "      <th>2023-01-18</th>\n",
       "      <td>-0.332335</td>\n",
       "    </tr>\n",
       "  </tbody>\n",
       "</table>\n",
       "<p>666 rows × 1 columns</p>\n",
       "</div>"
      ],
      "text/plain": [
       "            Portfolio % Drawdown\n",
       "Date                            \n",
       "2021-03-24              0.000000\n",
       "2021-03-25              0.000000\n",
       "2021-03-26              0.000000\n",
       "2021-03-27              0.000000\n",
       "2021-03-28              0.000000\n",
       "...                          ...\n",
       "2023-01-14             -0.337907\n",
       "2023-01-15             -0.338329\n",
       "2023-01-16             -0.337052\n",
       "2023-01-17             -0.332965\n",
       "2023-01-18             -0.332335\n",
       "\n",
       "[666 rows x 1 columns]"
      ]
     },
     "execution_count": 28,
     "metadata": {},
     "output_type": "execute_result"
    }
   ],
   "source": [
    "# show drawdown dataframe\n",
    "dd"
   ]
  },
  {
   "cell_type": "code",
   "execution_count": 29,
   "metadata": {},
   "outputs": [
    {
     "data": {
      "text/html": [
       "<div>\n",
       "<style scoped>\n",
       "    .dataframe tbody tr th:only-of-type {\n",
       "        vertical-align: middle;\n",
       "    }\n",
       "\n",
       "    .dataframe tbody tr th {\n",
       "        vertical-align: top;\n",
       "    }\n",
       "\n",
       "    .dataframe thead th {\n",
       "        text-align: right;\n",
       "    }\n",
       "</style>\n",
       "<table border=\"1\" class=\"dataframe\">\n",
       "  <thead>\n",
       "    <tr style=\"text-align: right;\">\n",
       "      <th></th>\n",
       "      <th>Portfolio Value</th>\n",
       "    </tr>\n",
       "    <tr>\n",
       "      <th>Date</th>\n",
       "      <th></th>\n",
       "    </tr>\n",
       "  </thead>\n",
       "  <tbody>\n",
       "    <tr>\n",
       "      <th>2021-03-24</th>\n",
       "      <td>35652.843475</td>\n",
       "    </tr>\n",
       "    <tr>\n",
       "      <th>2021-03-25</th>\n",
       "      <td>35801.284790</td>\n",
       "    </tr>\n",
       "    <tr>\n",
       "      <th>2021-03-26</th>\n",
       "      <td>82559.815979</td>\n",
       "    </tr>\n",
       "    <tr>\n",
       "      <th>2021-03-27</th>\n",
       "      <td>82559.815979</td>\n",
       "    </tr>\n",
       "    <tr>\n",
       "      <th>2021-03-28</th>\n",
       "      <td>82559.815979</td>\n",
       "    </tr>\n",
       "    <tr>\n",
       "      <th>...</th>\n",
       "      <td>...</td>\n",
       "    </tr>\n",
       "    <tr>\n",
       "      <th>2023-01-14</th>\n",
       "      <td>149678.294678</td>\n",
       "    </tr>\n",
       "    <tr>\n",
       "      <th>2023-01-15</th>\n",
       "      <td>149582.794678</td>\n",
       "    </tr>\n",
       "    <tr>\n",
       "      <th>2023-01-16</th>\n",
       "      <td>149871.628662</td>\n",
       "    </tr>\n",
       "    <tr>\n",
       "      <th>2023-01-17</th>\n",
       "      <td>150795.522217</td>\n",
       "    </tr>\n",
       "    <tr>\n",
       "      <th>2023-01-18</th>\n",
       "      <td>150937.985107</td>\n",
       "    </tr>\n",
       "  </tbody>\n",
       "</table>\n",
       "<p>666 rows × 1 columns</p>\n",
       "</div>"
      ],
      "text/plain": [
       "            Portfolio Value\n",
       "Date                       \n",
       "2021-03-24     35652.843475\n",
       "2021-03-25     35801.284790\n",
       "2021-03-26     82559.815979\n",
       "2021-03-27     82559.815979\n",
       "2021-03-28     82559.815979\n",
       "...                     ...\n",
       "2023-01-14    149678.294678\n",
       "2023-01-15    149582.794678\n",
       "2023-01-16    149871.628662\n",
       "2023-01-17    150795.522217\n",
       "2023-01-18    150937.985107\n",
       "\n",
       "[666 rows x 1 columns]"
      ]
     },
     "execution_count": 29,
     "metadata": {},
     "output_type": "execute_result"
    }
   ],
   "source": [
    "# show holdings dataframe\n",
    "holdings"
   ]
  },
  {
   "cell_type": "code",
   "execution_count": 30,
   "metadata": {},
   "outputs": [
    {
     "data": {
      "text/html": [
       "<div>\n",
       "<style scoped>\n",
       "    .dataframe tbody tr th:only-of-type {\n",
       "        vertical-align: middle;\n",
       "    }\n",
       "\n",
       "    .dataframe tbody tr th {\n",
       "        vertical-align: top;\n",
       "    }\n",
       "\n",
       "    .dataframe thead th {\n",
       "        text-align: right;\n",
       "    }\n",
       "</style>\n",
       "<table border=\"1\" class=\"dataframe\">\n",
       "  <thead>\n",
       "    <tr style=\"text-align: right;\">\n",
       "      <th></th>\n",
       "      <th>Portfolio % Drawdown</th>\n",
       "      <th>Portfolio Value</th>\n",
       "    </tr>\n",
       "    <tr>\n",
       "      <th>Date</th>\n",
       "      <th></th>\n",
       "      <th></th>\n",
       "    </tr>\n",
       "  </thead>\n",
       "  <tbody>\n",
       "    <tr>\n",
       "      <th>2023-01-09</th>\n",
       "      <td>-0.377575</td>\n",
       "      <td>140710.550049</td>\n",
       "    </tr>\n",
       "    <tr>\n",
       "      <th>2023-01-10</th>\n",
       "      <td>-0.373400</td>\n",
       "      <td>141654.291626</td>\n",
       "    </tr>\n",
       "    <tr>\n",
       "      <th>2023-01-11</th>\n",
       "      <td>-0.357792</td>\n",
       "      <td>145182.900635</td>\n",
       "    </tr>\n",
       "    <tr>\n",
       "      <th>2023-01-12</th>\n",
       "      <td>-0.351446</td>\n",
       "      <td>146617.588989</td>\n",
       "    </tr>\n",
       "    <tr>\n",
       "      <th>2023-01-13</th>\n",
       "      <td>-0.342625</td>\n",
       "      <td>148611.570068</td>\n",
       "    </tr>\n",
       "    <tr>\n",
       "      <th>2023-01-14</th>\n",
       "      <td>-0.337907</td>\n",
       "      <td>149678.294678</td>\n",
       "    </tr>\n",
       "    <tr>\n",
       "      <th>2023-01-15</th>\n",
       "      <td>-0.338329</td>\n",
       "      <td>149582.794678</td>\n",
       "    </tr>\n",
       "    <tr>\n",
       "      <th>2023-01-16</th>\n",
       "      <td>-0.337052</td>\n",
       "      <td>149871.628662</td>\n",
       "    </tr>\n",
       "    <tr>\n",
       "      <th>2023-01-17</th>\n",
       "      <td>-0.332965</td>\n",
       "      <td>150795.522217</td>\n",
       "    </tr>\n",
       "    <tr>\n",
       "      <th>2023-01-18</th>\n",
       "      <td>-0.332335</td>\n",
       "      <td>150937.985107</td>\n",
       "    </tr>\n",
       "  </tbody>\n",
       "</table>\n",
       "</div>"
      ],
      "text/plain": [
       "            Portfolio % Drawdown  Portfolio Value\n",
       "Date                                             \n",
       "2023-01-09             -0.377575    140710.550049\n",
       "2023-01-10             -0.373400    141654.291626\n",
       "2023-01-11             -0.357792    145182.900635\n",
       "2023-01-12             -0.351446    146617.588989\n",
       "2023-01-13             -0.342625    148611.570068\n",
       "2023-01-14             -0.337907    149678.294678\n",
       "2023-01-15             -0.338329    149582.794678\n",
       "2023-01-16             -0.337052    149871.628662\n",
       "2023-01-17             -0.332965    150795.522217\n",
       "2023-01-18             -0.332335    150937.985107"
      ]
     },
     "execution_count": 30,
     "metadata": {},
     "output_type": "execute_result"
    }
   ],
   "source": [
    "# merge drawdown and holdings dataframes\n",
    "df_merged = dd.join(holdings)\n",
    "df_merged.index = df_merged.index.strftime(date_format='%Y-%m-%d')\n",
    "df_merged.tail(10)"
   ]
  },
  {
   "attachments": {},
   "cell_type": "markdown",
   "metadata": {},
   "source": [
    "#### Drawdown chart"
   ]
  },
  {
   "cell_type": "code",
   "execution_count": 32,
   "metadata": {},
   "outputs": [
    {
     "data": {
      "image/png": "[encoded data removed]",
      "text/plain": [
       "<Figure size 800x500 with 2 Axes>"
      ]
     },
     "metadata": {},
     "output_type": "display_data"
    }
   ],
   "source": [
    "openbb.portfolio.maxdd_chart(P)"
   ]
  },
  {
   "attachments": {},
   "cell_type": "markdown",
   "metadata": {},
   "source": [
    "### Rolling sharpe ratio: RSharpe"
   ]
  },
  {
   "cell_type": "code",
   "execution_count": 33,
   "metadata": {},
   "outputs": [
    {
     "data": {
      "text/html": [
       "<div>\n",
       "<style scoped>\n",
       "    .dataframe tbody tr th:only-of-type {\n",
       "        vertical-align: middle;\n",
       "    }\n",
       "\n",
       "    .dataframe tbody tr th {\n",
       "        vertical-align: top;\n",
       "    }\n",
       "\n",
       "    .dataframe thead th {\n",
       "        text-align: right;\n",
       "    }\n",
       "</style>\n",
       "<table border=\"1\" class=\"dataframe\">\n",
       "  <thead>\n",
       "    <tr style=\"text-align: right;\">\n",
       "      <th></th>\n",
       "      <th>Portfolio Sharpe</th>\n",
       "      <th>Benchmark Sharpe</th>\n",
       "    </tr>\n",
       "    <tr>\n",
       "      <th>Date</th>\n",
       "      <th></th>\n",
       "      <th></th>\n",
       "    </tr>\n",
       "  </thead>\n",
       "  <tbody>\n",
       "    <tr>\n",
       "      <th>2023-01-14</th>\n",
       "      <td>-0.038601</td>\n",
       "      <td>0.012324</td>\n",
       "    </tr>\n",
       "    <tr>\n",
       "      <th>2023-01-15</th>\n",
       "      <td>-0.036124</td>\n",
       "      <td>0.012324</td>\n",
       "    </tr>\n",
       "    <tr>\n",
       "      <th>2023-01-16</th>\n",
       "      <td>-0.021850</td>\n",
       "      <td>0.026954</td>\n",
       "    </tr>\n",
       "    <tr>\n",
       "      <th>2023-01-17</th>\n",
       "      <td>-0.025247</td>\n",
       "      <td>0.009298</td>\n",
       "    </tr>\n",
       "    <tr>\n",
       "      <th>2023-01-18</th>\n",
       "      <td>-0.017840</td>\n",
       "      <td>0.022551</td>\n",
       "    </tr>\n",
       "  </tbody>\n",
       "</table>\n",
       "</div>"
      ],
      "text/plain": [
       "            Portfolio Sharpe  Benchmark Sharpe\n",
       "Date                                          \n",
       "2023-01-14         -0.038601          0.012324\n",
       "2023-01-15         -0.036124          0.012324\n",
       "2023-01-16         -0.021850          0.026954\n",
       "2023-01-17         -0.025247          0.009298\n",
       "2023-01-18         -0.017840          0.022551"
      ]
     },
     "execution_count": 33,
     "metadata": {},
     "output_type": "execute_result"
    }
   ],
   "source": [
    "rs = openbb.portfolio.rsharpe(P, window = '3m')\n",
    "rs.rename(columns = {'portfolio': 'Portfolio Sharpe', 'benchmark': 'Benchmark Sharpe'}, inplace = True)\n",
    "rs.index = rs.index.strftime(date_format='%Y-%m-%d')\n",
    "\n",
    "rs.tail(5)"
   ]
  },
  {
   "attachments": {},
   "cell_type": "markdown",
   "metadata": {},
   "source": [
    "### Rolling volatility: RVol"
   ]
  },
  {
   "cell_type": "code",
   "execution_count": 38,
   "metadata": {},
   "outputs": [
    {
     "data": {
      "text/html": [
       "<div>\n",
       "<style scoped>\n",
       "    .dataframe tbody tr th:only-of-type {\n",
       "        vertical-align: middle;\n",
       "    }\n",
       "\n",
       "    .dataframe tbody tr th {\n",
       "        vertical-align: top;\n",
       "    }\n",
       "\n",
       "    .dataframe thead th {\n",
       "        text-align: right;\n",
       "    }\n",
       "</style>\n",
       "<table border=\"1\" class=\"dataframe\">\n",
       "  <thead>\n",
       "    <tr style=\"text-align: right;\">\n",
       "      <th></th>\n",
       "      <th>Portfolio Volatility</th>\n",
       "      <th>Benchmark Volatility</th>\n",
       "    </tr>\n",
       "    <tr>\n",
       "      <th>Date</th>\n",
       "      <th></th>\n",
       "      <th></th>\n",
       "    </tr>\n",
       "  </thead>\n",
       "  <tbody>\n",
       "    <tr>\n",
       "      <th>2023-01-14</th>\n",
       "      <td>0.014191</td>\n",
       "      <td>0.009350</td>\n",
       "    </tr>\n",
       "    <tr>\n",
       "      <th>2023-01-15</th>\n",
       "      <td>0.014188</td>\n",
       "      <td>0.009350</td>\n",
       "    </tr>\n",
       "    <tr>\n",
       "      <th>2023-01-16</th>\n",
       "      <td>0.014128</td>\n",
       "      <td>0.009284</td>\n",
       "    </tr>\n",
       "    <tr>\n",
       "      <th>2023-01-17</th>\n",
       "      <td>0.014101</td>\n",
       "      <td>0.009227</td>\n",
       "    </tr>\n",
       "    <tr>\n",
       "      <th>2023-01-18</th>\n",
       "      <td>0.014086</td>\n",
       "      <td>0.009174</td>\n",
       "    </tr>\n",
       "  </tbody>\n",
       "</table>\n",
       "</div>"
      ],
      "text/plain": [
       "            Portfolio Volatility  Benchmark Volatility\n",
       "Date                                                  \n",
       "2023-01-14              0.014191              0.009350\n",
       "2023-01-15              0.014188              0.009350\n",
       "2023-01-16              0.014128              0.009284\n",
       "2023-01-17              0.014101              0.009227\n",
       "2023-01-18              0.014086              0.009174"
      ]
     },
     "execution_count": 38,
     "metadata": {},
     "output_type": "execute_result"
    }
   ],
   "source": [
    "rv = openbb.portfolio.rvol(P, window = '3m')\n",
    "rv.rename(columns={'portfolio': 'Portfolio Volatility', 'benchmark': 'Benchmark Volatility'}, inplace = True)\n",
    "rv.index = rv.index.strftime(date_format='%Y-%m-%d')\n",
    "\n",
    "rv.tail(5)"
   ]
  },
  {
   "attachments": {},
   "cell_type": "markdown",
   "metadata": {},
   "source": [
    "### Daily returns: DRet\n",
    "\n",
    "Calculate daily returns for the portfolio and benchmark"
   ]
  },
  {
   "cell_type": "code",
   "execution_count": 39,
   "metadata": {},
   "outputs": [
    {
     "data": {
      "text/html": [
       "<div>\n",
       "<style scoped>\n",
       "    .dataframe tbody tr th:only-of-type {\n",
       "        vertical-align: middle;\n",
       "    }\n",
       "\n",
       "    .dataframe tbody tr th {\n",
       "        vertical-align: top;\n",
       "    }\n",
       "\n",
       "    .dataframe thead th {\n",
       "        text-align: right;\n",
       "    }\n",
       "</style>\n",
       "<table border=\"1\" class=\"dataframe\">\n",
       "  <thead>\n",
       "    <tr style=\"text-align: right;\">\n",
       "      <th></th>\n",
       "      <th>Portfolio % Returns</th>\n",
       "      <th>Benchmark % Returns</th>\n",
       "    </tr>\n",
       "    <tr>\n",
       "      <th>Date</th>\n",
       "      <th></th>\n",
       "      <th></th>\n",
       "    </tr>\n",
       "  </thead>\n",
       "  <tbody>\n",
       "    <tr>\n",
       "      <th>2023-01-14</th>\n",
       "      <td>0.007178</td>\n",
       "      <td>0.000000</td>\n",
       "    </tr>\n",
       "    <tr>\n",
       "      <th>2023-01-15</th>\n",
       "      <td>-0.000638</td>\n",
       "      <td>0.000000</td>\n",
       "    </tr>\n",
       "    <tr>\n",
       "      <th>2023-01-16</th>\n",
       "      <td>0.001931</td>\n",
       "      <td>0.000000</td>\n",
       "    </tr>\n",
       "    <tr>\n",
       "      <th>2023-01-17</th>\n",
       "      <td>0.006165</td>\n",
       "      <td>-0.001832</td>\n",
       "    </tr>\n",
       "    <tr>\n",
       "      <th>2023-01-18</th>\n",
       "      <td>0.000945</td>\n",
       "      <td>0.000000</td>\n",
       "    </tr>\n",
       "  </tbody>\n",
       "</table>\n",
       "</div>"
      ],
      "text/plain": [
       "            Portfolio % Returns  Benchmark % Returns\n",
       "Date                                                \n",
       "2023-01-14             0.007178             0.000000\n",
       "2023-01-15            -0.000638             0.000000\n",
       "2023-01-16             0.001931             0.000000\n",
       "2023-01-17             0.006165            -0.001832\n",
       "2023-01-18             0.000945             0.000000"
      ]
     },
     "execution_count": 39,
     "metadata": {},
     "output_type": "execute_result"
    }
   ],
   "source": [
    "returns = openbb.portfolio.dret(P)\n",
    "returns.rename(columns = {'portfolio': 'Portfolio % Returns', 'benchmark': 'Benchmark % Returns'}, inplace = True)\n",
    "returns.index = returns.index.rename('Date')\n",
    "\n",
    "returns.tail(5)"
   ]
  },
  {
   "attachments": {},
   "cell_type": "markdown",
   "metadata": {},
   "source": [
    "### Yearly returns: yret"
   ]
  },
  {
   "cell_type": "code",
   "execution_count": 40,
   "metadata": {},
   "outputs": [
    {
     "data": {
      "text/html": [
       "<div>\n",
       "<style scoped>\n",
       "    .dataframe tbody tr th:only-of-type {\n",
       "        vertical-align: middle;\n",
       "    }\n",
       "\n",
       "    .dataframe tbody tr th {\n",
       "        vertical-align: top;\n",
       "    }\n",
       "\n",
       "    .dataframe thead th {\n",
       "        text-align: right;\n",
       "    }\n",
       "</style>\n",
       "<table border=\"1\" class=\"dataframe\">\n",
       "  <thead>\n",
       "    <tr style=\"text-align: right;\">\n",
       "      <th></th>\n",
       "      <th>Portfolio</th>\n",
       "      <th>Benchmark</th>\n",
       "      <th>Difference</th>\n",
       "    </tr>\n",
       "  </thead>\n",
       "  <tbody>\n",
       "    <tr>\n",
       "      <th>2021</th>\n",
       "      <td>39.304863</td>\n",
       "      <td>23.474199</td>\n",
       "      <td>15.830665</td>\n",
       "    </tr>\n",
       "    <tr>\n",
       "      <th>2022</th>\n",
       "      <td>-34.882593</td>\n",
       "      <td>-18.175363</td>\n",
       "      <td>-16.707229</td>\n",
       "    </tr>\n",
       "    <tr>\n",
       "      <th>2023</th>\n",
       "      <td>5.844079</td>\n",
       "      <td>4.011191</td>\n",
       "      <td>1.832888</td>\n",
       "    </tr>\n",
       "  </tbody>\n",
       "</table>\n",
       "</div>"
      ],
      "text/plain": [
       "      Portfolio  Benchmark  Difference\n",
       "2021  39.304863  23.474199   15.830665\n",
       "2022 -34.882593 -18.175363  -16.707229\n",
       "2023   5.844079   4.011191    1.832888"
      ]
     },
     "execution_count": 40,
     "metadata": {},
     "output_type": "execute_result"
    }
   ],
   "source": [
    "openbb.portfolio.yret(P)"
   ]
  },
  {
   "attachments": {},
   "cell_type": "markdown",
   "metadata": {},
   "source": [
    "## Portfolio Optimization\n",
    "\n",
    "https://docs.openbb.co/sdk/guides/intros/portfolio/po"
   ]
  },
  {
   "attachments": {},
   "cell_type": "markdown",
   "metadata": {},
   "source": [
    "### Set up portfolio\n"
   ]
  },
  {
   "attachments": {},
   "cell_type": "markdown",
   "metadata": {},
   "source": [
    "#### Portfolio Files\n",
    "\n",
    "Relevant files can be found here: https://github.com/OpenBB-finance/OpenBBTerminal/tree/main/openbb_terminal/miscellaneous/portfolio_examples/allocation"
   ]
  },
  {
   "cell_type": "code",
   "execution_count": 49,
   "metadata": {},
   "outputs": [
    {
     "name": "stdout",
     "output_type": "stream",
     "text": [
      "--2023-01-18 04:21:27--  https://github.com/OpenBB-finance/OpenBBTerminal/blob/main/openbb_terminal/miscellaneous/portfolio_examples/allocation/SP_500_Portfolio.xlsx\n",
      "Resolving github.com (github.com)... 140.82.121.3\n",
      "Connecting to github.com (github.com)|140.82.121.3|:443... connected.\n",
      "HTTP request sent, awaiting response... 200 OK\n",
      "Length: unspecified [text/html]\n",
      "Saving to: ‘/home/gitpod/OpenBBUserData/portfolio/allocation/SP_500_Portfolio.xlsx’\n",
      "\n",
      "SP_500_Portfolio.xl     [ <=>                ] 148.61K  --.-KB/s    in 0.02s   \n",
      "\n",
      "2023-01-18 04:21:27 (6.11 MB/s) - ‘/home/gitpod/OpenBBUserData/portfolio/allocation/SP_500_Portfolio.xlsx’ saved [152176]\n",
      "\n"
     ]
    }
   ],
   "source": [
    "!wget --directory-prefix=/home/gitpod/OpenBBUserData/portfolio/allocation/ \"https://github.com/OpenBB-finance/OpenBBTerminal/blob/main/openbb_terminal/miscellaneous/portfolio_examples/allocation/SP_500_Portfolio.xlsx\""
   ]
  },
  {
   "cell_type": "code",
   "execution_count": 50,
   "metadata": {},
   "outputs": [
    {
     "name": "stdout",
     "output_type": "stream",
     "text": [
      ".  ..  60_40_Portfolio.xlsx  SP_500_Portfolio.xlsx\n"
     ]
    }
   ],
   "source": [
    "!ls -a /home/gitpod/OpenBBUserData/portfolio/allocation/"
   ]
  },
  {
   "attachments": {},
   "cell_type": "markdown",
   "metadata": {},
   "source": [
    "### Risk Parity "
   ]
  },
  {
   "attachments": {},
   "cell_type": "markdown",
   "metadata": {},
   "source": [
    "### Hierarchical Risk Parity"
   ]
  },
  {
   "cell_type": "code",
   "execution_count": null,
   "metadata": {},
   "outputs": [],
   "source": []
  }
 ],
 "metadata": {
  "kernelspec": {
   "display_name": "Python 3",
   "language": "python",
   "name": "python3"
  },
  "language_info": {
   "codemirror_mode": {
    "name": "ipython",
    "version": 3
   },
   "file_extension": ".py",
   "mimetype": "text/x-python",
   "name": "python",
   "nbconvert_exporter": "python",
   "pygments_lexer": "ipython3",
   "version": "3.9.6"
  },
  "orig_nbformat": 4,
  "vscode": {
   "interpreter": {
    "hash": "da68105485710cf10a6d49297648d33d812a8aaee3ebc1423327d3127c586267"
   }
  }
 },
 "nbformat": 4,
 "nbformat_minor": 2
}
