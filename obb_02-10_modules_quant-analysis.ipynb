{
 "cells": [
  {
   "cell_type": "markdown",
   "metadata": {},
   "source": [
    "# 02.10 Modules: Quantitative Analysis\n",
    "\n",
    "> https://docs.openbb.co/sdk/guides/intros/quantitative-analysis"
   ]
  },
  {
   "cell_type": "markdown",
   "metadata": {},
   "source": [
    "- `openbb.qa.acf` - `Plot` - Auto and Partial Correlation of Returns and Change in Returns\n",
    "- `openbb.qa.bw` - `Plot` - Box and Whisker Plot\n",
    "- `openbb.qa.calculate_adjusted_var` - `Risk` - Calculates VaR, adjusted for skew and kurtosis (Cornish-Fisher-Expansion)\n",
    "- `openbb.qa.cdf` - `Plot` - Plots the Cumulative Distribution Function\n",
    "- `openbb.qa.cusum` - `Plot` - Plots the Cumulative Sum Algorithm\n",
    "- `openbb.qa.decompose` - `Plot` - Decomposition in Cyclic-Trend, Season & Residuals of Prices\n",
    "- `openbb.qa.es` - `Statistics` - Expected Shortfall per percentile\n",
    "- `openbb.qa.kurtosis` - `Rolling Metrics` - Rolling Kurtosis of Distribution of Prices\n",
    "- `openbb.qa.line` - `Plot` - Customizable Line Plot, With Annotations\n",
    "- `openbb.qa.normality` - `Statistics` - Normality Statistics and Tests\n",
    "- `openbb.qa.omega` - `Risk` - Omega Ratio (Risk/Return Performance Measure)\n",
    "- `openbb.qa.quantile` - `Rolling Metrics` - Rolling Median and Quantile of Prices\n",
    "- `openbb.qa.qqplot` - `Plot` - QQ Plot for Data Against Normal Quantiles\n",
    "- `openbb.qa.rolling` - `Rolling Metrics` - Rolling Mean and Standard Deviation of Prices\n",
    "- `openbb.qa.sharpe` - `Risk` - Sharpe Ratio (Measure of Risk-Adjusted Return)\n",
    "- `openbb.qa.skew` - `Rolling Metrics` - Rolling Skewness of Distribution of Prices\n",
    "- `openbb.qa.spread` - `Rolling Metrics` - Rolling Variance and Standard Deviation of Prices\n",
    "- `openbb.qa.so` - `Risk` - Sortino Ratio Risk Adjustment Metric\n",
    "- `openbb.qa.summary` - `Statistics` - A Brief Summary of Statistics for the DataFrame\n",
    "- `openbb.qa.unitroot` - `Statistics` - Normality Statistics and Tests\n",
    "- `openbb.qa.var` - `Risk` - Value at Risk"
   ]
  },
  {
   "cell_type": "code",
   "execution_count": 1,
   "metadata": {},
   "outputs": [],
   "source": [
    "from openbb_terminal.sdk import openbb"
   ]
  },
  {
   "cell_type": "code",
   "execution_count": 2,
   "metadata": {},
   "outputs": [
    {
     "name": "stdout",
     "output_type": "stream",
     "text": [
      "Help on Breadcrumb in module openbb_terminal.core.library.breadcrumb:\n",
      "\n",
      "<openbb_terminal.core.library.breadcrumb.Breadcrumb object>\n",
      "    QA Menu\n",
      "    \n",
      "    The SDK commands of the the menu:\n",
      "            <openbb>.qa.cdf\n",
      "            <openbb>.qa.normality\n",
      "            <openbb>.qa.normality_chart\n",
      "            <openbb>.qa.sharpe\n",
      "            <openbb>.qa.sharpe_chart\n",
      "            <openbb>.qa.kurtosis\n",
      "            <openbb>.qa.kurtosis_chart\n",
      "            <openbb>.qa.bw\n",
      "            <openbb>.qa.skew\n",
      "            <openbb>.qa.skew_chart\n",
      "            <openbb>.qa.acf\n",
      "            <openbb>.qa.qqplot\n",
      "            <openbb>.qa.var\n",
      "            <openbb>.qa.var_chart\n",
      "            <openbb>.qa.sortino\n",
      "            <openbb>.qa.sortino_chart\n",
      "            <openbb>.qa.es\n",
      "            <openbb>.qa.es_chart\n",
      "            <openbb>.qa.quantile\n",
      "            <openbb>.qa.quantile_chart\n",
      "            <openbb>.qa.hist\n",
      "            <openbb>.qa.cusum\n",
      "            <openbb>.qa.calculate_adjusted_var\n",
      "            <openbb>.qa.line\n",
      "            <openbb>.qa.rolling\n",
      "            <openbb>.qa.rolling_chart\n",
      "            <openbb>.qa.omega\n",
      "            <openbb>.qa.omega_chart\n",
      "            <openbb>.qa.decompose\n",
      "            <openbb>.qa.spread\n",
      "            <openbb>.qa.spread_chart\n",
      "            <openbb>.qa.unitroot\n",
      "            <openbb>.qa.unitroot_chart\n",
      "            <openbb>.qa.summary\n",
      "            <openbb>.qa.summary_chart\n",
      "\n"
     ]
    }
   ],
   "source": [
    "help(openbb.qa)"
   ]
  }
 ],
 "metadata": {
  "kernelspec": {
   "display_name": "Python 3",
   "language": "python",
   "name": "python3"
  },
  "language_info": {
   "codemirror_mode": {
    "name": "ipython",
    "version": 3
   },
   "file_extension": ".py",
   "mimetype": "text/x-python",
   "name": "python",
   "nbconvert_exporter": "python",
   "pygments_lexer": "ipython3",
   "version": "3.9.6 (default, Aug 18 2021, 19:38:01) \n[GCC 7.5.0]"
  },
  "orig_nbformat": 4,
  "vscode": {
   "interpreter": {
    "hash": "da68105485710cf10a6d49297648d33d812a8aaee3ebc1423327d3127c586267"
   }
  }
 },
 "nbformat": 4,
 "nbformat_minor": 2
}
